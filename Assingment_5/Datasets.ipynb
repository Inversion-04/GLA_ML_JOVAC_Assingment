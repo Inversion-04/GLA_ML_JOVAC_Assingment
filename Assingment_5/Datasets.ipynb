{
 "cells": [
  {
   "cell_type": "markdown",
   "id": "781d7ad9",
   "metadata": {},
   "source": [
    "## 📚 Datasets Used\n",
    "\n",
    "# 1. Titanic Dataset\n",
    "\n",
    "   Description: Passenger survival data from the Titanic disaster.\n",
    "\n",
    "   Source URL:\n",
    "\n",
    "   https://raw.githubusercontent.com/ShubhamSinghal12/GLA_pythonML2025/refs/heads/main/LogisticRegression/Titanic.csv\n",
    "\n",
    "# 2. SMS Spam Collection Dataset\n",
    "\n",
    "   Description: SMS messages labeled as spam or ham.\n",
    "\n",
    "   Source URL:\n",
    "\n",
    "   https://raw.githubusercontent.com/justmarkham/pycon-2016-tutorial/master/data/sms.tsv\n",
    "\n",
    "# 3. Iris Dataset\n",
    "\n",
    "   Description: Classic flower classification dataset with 3 species and 4 features.\n",
    "\n",
    "   Source:\n",
    "   Loaded directly using from sklearn.datasets import load_iris"
   ]
  }
 ],
 "metadata": {
  "language_info": {
   "name": "python"
  }
 },
 "nbformat": 4,
 "nbformat_minor": 5
}
