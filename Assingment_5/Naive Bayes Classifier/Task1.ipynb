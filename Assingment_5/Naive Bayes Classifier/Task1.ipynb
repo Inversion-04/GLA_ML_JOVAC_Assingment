{
 "cells": [
  {
   "cell_type": "markdown",
   "id": "3d979a6a",
   "metadata": {},
   "source": [
    "# Theory Questions\n",
    "Answer in 2–4 sentences:\n",
    "\n",
    "# 1. What is the core assumption of Naive Bayes?\n",
    "\n",
    " The core assumption of Naive Bayes is that all features (predictors) are conditionally independent of each other given the class label. This means the presence or absence of a particular feature does not affect the presence or absence of any other feature, simplifying the computation of probabilities.\n",
    "\n",
    "# 2. Differentiate between GaussianNB, MultinomialNB, and BernoulliNB.\n",
    "\n",
    " GaussianNB : it  assumes that features follow a normal (Gaussian) distribution and is typically used for continuous data.\n",
    "\n",
    " MultinomialNB : it is designed for discrete count data, such as word counts in text classification.\n",
    "\n",
    " BernoulliNB : it is suitable for binary/boolean features, where each feature is either present or absent.\n",
    "\n",
    "# 3. Why is Naive Bayes considered suitable for high-dimensional data?\n",
    "\n",
    " Naive Bayes is suitable for high-dimensional data because its independence assumption allows it to efficiently compute probabilities without modeling complex feature interactions. This makes it computationally fast and less prone to overfitting, even when the number of features is large compared to the number of samples."
   ]
  }
 ],
 "metadata": {
  "kernelspec": {
   "display_name": "Python 3",
   "language": "python",
   "name": "python3"
  },
  "language_info": {
   "name": "python",
   "version": "3.13.4"
  }
 },
 "nbformat": 4,
 "nbformat_minor": 5
}
