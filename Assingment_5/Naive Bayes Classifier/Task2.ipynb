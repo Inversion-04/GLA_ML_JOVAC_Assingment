{
 "cells": [
  {
   "cell_type": "markdown",
   "id": "0e53aac6",
   "metadata": {},
   "source": [
    "# Task 2: Spam Detection using MultinomialNB\n",
    "\n",
    "● Load a text dataset (e.g., SMS Spam Collection or any public text dataset).\n",
    "\n",
    "● Preprocess using CountVectorizer or TfidfVectorizer.\n",
    "\n",
    "● Train a MultinomialNB classifier.\n",
    "\n",
    "● Evaluate:\n",
    "\n",
    "○ Accuracy\n",
    "\n",
    "○ Precision\n",
    "\n",
    "○ Recall\n",
    "\n",
    "○ Confusion Matrix"
   ]
  },
  {
   "cell_type": "code",
   "execution_count": 1,
   "id": "84f1bde7",
   "metadata": {},
   "outputs": [],
   "source": [
    "\n",
    "url = \"https://raw.githubusercontent.com/justmarkham/pycon-2016-tutorial/master/data/sms.tsv\""
   ]
  },
  {
   "cell_type": "code",
   "execution_count": 2,
   "id": "e6cf57c6",
   "metadata": {},
   "outputs": [
    {
     "name": "stdout",
     "output_type": "stream",
     "text": [
      "Accuracy: 0.9919282511210762\n",
      "Precision: 1.0\n",
      "Recall: 0.9395973154362416\n",
      "Confusion Matrix:\n",
      " [[966   0]\n",
      " [  9 140]]\n"
     ]
    }
   ],
   "source": [
    "\n",
    "import pandas as pd\n",
    "from sklearn.model_selection import train_test_split\n",
    "from sklearn.feature_extraction.text import CountVectorizer\n",
    "from sklearn.naive_bayes import MultinomialNB\n",
    "from sklearn.metrics import accuracy_score, precision_score, recall_score, confusion_matrix\n",
    "\n",
    "# Load the SMS Spam Collection dataset from a public URL\n",
    "\n",
    "url = \"https://raw.githubusercontent.com/justmarkham/pycon-2016-tutorial/master/data/sms.tsv\"\n",
    "df = pd.read_csv(url, sep='\\t', header=None, names=['label', 'message'])\n",
    "\n",
    "# Encode labels: ham=0, spam=1\n",
    "\n",
    "df['label_num'] = df.label.map({'ham': 0, 'spam': 1})\n",
    "\n",
    "# Split into train and test sets\n",
    "\n",
    "X_train, X_test, y_train, y_test = train_test_split(\n",
    "    df['message'], df['label_num'], test_size=0.2, random_state=42\n",
    ")\n",
    "\n",
    "# Vectorize text using CountVectorizer\n",
    "\n",
    "vectorizer = CountVectorizer()\n",
    "X_train_vec = vectorizer.fit_transform(X_train)\n",
    "X_test_vec = vectorizer.transform(X_test)\n",
    "\n",
    "# Train MultinomialNB classifier\n",
    "\n",
    "clf = MultinomialNB()\n",
    "clf.fit(X_train_vec, y_train)\n",
    "\n",
    "# Predict on test set\n",
    "\n",
    "y_pred = clf.predict(X_test_vec)\n",
    "\n",
    "# Evaluate\n",
    "\n",
    "accuracy = accuracy_score(y_test, y_pred)\n",
    "precision = precision_score(y_test, y_pred)\n",
    "recall = recall_score(y_test, y_pred)\n",
    "cm = confusion_matrix(y_test, y_pred)\n",
    "\n",
    "print(\"Accuracy:\", accuracy)\n",
    "print(\"Precision:\", precision)\n",
    "print(\"Recall:\", recall)\n",
    "print(\"Confusion Matrix:\\n\", cm)"
   ]
  }
 ],
 "metadata": {
  "kernelspec": {
   "display_name": "Python 3",
   "language": "python",
   "name": "python3"
  },
  "language_info": {
   "codemirror_mode": {
    "name": "ipython",
    "version": 3
   },
   "file_extension": ".py",
   "mimetype": "text/x-python",
   "name": "python",
   "nbconvert_exporter": "python",
   "pygments_lexer": "ipython3",
   "version": "3.13.4"
  }
 },
 "nbformat": 4,
 "nbformat_minor": 5
}
