{
 "cells": [
  {
   "cell_type": "markdown",
   "id": "9eafe4dc",
   "metadata": {},
   "source": [
    "# Task 3: GaussianNB with Iris or Wine Dataset\n",
    "\n",
    "● Train a GaussianNB classifier on a numeric dataset.\n",
    "\n",
    "● Split data into train/test sets.\n",
    "\n",
    "● Evaluate model performance.\n",
    "\n",
    "● Compare with Logistic Regression or Decision Tree briefly."
   ]
  },
  {
   "cell_type": "code",
   "execution_count": 1,
   "id": "bdff7310",
   "metadata": {},
   "outputs": [
    {
     "name": "stdout",
     "output_type": "stream",
     "text": [
      "GaussianNB Accuracy: 1.0\n",
      "GaussianNB Classification Report:\n",
      "               precision    recall  f1-score   support\n",
      "\n",
      "           0       1.00      1.00      1.00        10\n",
      "           1       1.00      1.00      1.00         9\n",
      "           2       1.00      1.00      1.00        11\n",
      "\n",
      "    accuracy                           1.00        30\n",
      "   macro avg       1.00      1.00      1.00        30\n",
      "weighted avg       1.00      1.00      1.00        30\n",
      "\n",
      "Logistic Regression Accuracy: 1.0\n",
      "Decision Tree Accuracy: 1.0\n",
      "\n",
      "Brief Comparison:\n",
      "GaussianNB is simple and works well with normally distributed features.\n",
      "Logistic Regression often performs slightly better on linearly separable data.\n",
      "Decision Tree can capture non-linear relationships but may overfit on small datasets.\n"
     ]
    }
   ],
   "source": [
    "\n",
    "from sklearn.datasets import load_iris\n",
    "from sklearn.model_selection import train_test_split\n",
    "from sklearn.naive_bayes import GaussianNB\n",
    "from sklearn.linear_model import LogisticRegression\n",
    "from sklearn.tree import DecisionTreeClassifier\n",
    "from sklearn.metrics import accuracy_score, classification_report\n",
    "\n",
    "# Load the Iris dataset\n",
    "\n",
    "iris = load_iris()\n",
    "X, y = iris.data, iris.target\n",
    "\n",
    "# Split data into train and test sets\n",
    "\n",
    "X_train, X_test, y_train, y_test = train_test_split(X, y, test_size=0.2, random_state=42)\n",
    "\n",
    "# Train GaussianNB classifier\n",
    "\n",
    "gnb = GaussianNB()\n",
    "gnb.fit(X_train, y_train)\n",
    "y_pred_gnb = gnb.predict(X_test)\n",
    "\n",
    "# Evaluate GaussianNB\n",
    "\n",
    "print(\"GaussianNB Accuracy:\", accuracy_score(y_test, y_pred_gnb))\n",
    "print(\"GaussianNB Classification Report:\\n\", classification_report(y_test, y_pred_gnb))\n",
    "\n",
    "# Train and evaluate Logistic Regression\n",
    "\n",
    "lr = LogisticRegression(max_iter=200)\n",
    "lr.fit(X_train, y_train)\n",
    "y_pred_lr = lr.predict(X_test)\n",
    "print(\"Logistic Regression Accuracy:\", accuracy_score(y_test, y_pred_lr))\n",
    "\n",
    "# Train and evaluate Decision Tree\n",
    "\n",
    "dt = DecisionTreeClassifier(random_state=42)\n",
    "dt.fit(X_train, y_train)\n",
    "y_pred_dt = dt.predict(X_test)\n",
    "print(\"Decision Tree Accuracy:\", accuracy_score(y_test, y_pred_dt))\n",
    "\n",
    "# Brief comparison\n",
    "\n",
    "print(\"\\nBrief Comparison:\")\n",
    "print(\"GaussianNB is simple and works well with normally distributed features.\")\n",
    "print(\"Logistic Regression often performs slightly better on linearly separable data.\")\n",
    "print(\"Decision Tree can capture non-linear relationships but may overfit on small datasets.\")"
   ]
  }
 ],
 "metadata": {
  "kernelspec": {
   "display_name": "Python 3",
   "language": "python",
   "name": "python3"
  },
  "language_info": {
   "codemirror_mode": {
    "name": "ipython",
    "version": 3
   },
   "file_extension": ".py",
   "mimetype": "text/x-python",
   "name": "python",
   "nbconvert_exporter": "python",
   "pygments_lexer": "ipython3",
   "version": "3.13.4"
  }
 },
 "nbformat": 4,
 "nbformat_minor": 5
}
