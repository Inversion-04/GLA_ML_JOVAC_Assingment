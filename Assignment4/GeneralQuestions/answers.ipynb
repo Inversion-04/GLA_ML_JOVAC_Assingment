{
 "cells": [
  {
   "cell_type": "markdown",
   "id": "39addd52",
   "metadata": {},
   "source": [
    "**1. What are the assumptions of linear regression?**\n",
    "\n",
    "* The relationship between features and target should be linear.\n",
    "\n",
    "* Errors (differences between predicted and actual) should have constant spread.\n",
    "\n",
    "* Data points should be independent (not related to each other).\n",
    "\n",
    "* Errors should follow a normal distribution."
   ]
  },
  {
   "cell_type": "markdown",
   "id": "463acc35",
   "metadata": {},
   "source": [
    "\n",
    "**2. When should you use logistic regression instead of linear regression?**\n",
    "\n",
    "* Use logistic regression when the target is Yes/No, 0/1, or any category.\n",
    "\n",
    "* Use linear regression only when predicting a number (like price, age, etc.)."
   ]
  },
  {
   "cell_type": "markdown",
   "id": "3c8b32ac",
   "metadata": {},
   "source": [
    "\n",
    "**3. What is the interpretation of coefficients in logistic regression?**\n",
    "\n",
    "* The coefficient shows how much the odds change when a feature increases.\n",
    "\n",
    "* If you increase a feature by 1, the chance of outcome (like getting 1) goes up or down."
   ]
  },
  {
   "cell_type": "markdown",
   "id": "9d743309",
   "metadata": {},
   "source": [
    "\n",
    "**4. What is the difference between sigmoid and softmax functions?**\n",
    "\n",
    "* Sigmoid: Used for two-class problems (gives one value between 0 and 1).\n",
    "\n",
    "* Softmax: Used for multi-class problems (gives a set of probabilities that add to 1)"
   ]
  },
  {
   "cell_type": "markdown",
   "id": "bfb5287c",
   "metadata": {},
   "source": [
    "\n",
    "**5. Why is R-squared not suitable for evaluating logistic regression models?**\n",
    "\n",
    "* R-squared measures the proportion of variance explained by a linear model and is suited for regression tasks. Logistic regression deals with classification and probabilities, not continuous values so metrics like accuracy, precision,recall,F1-score, and ROC-AUC are more appropriate for evaluating its performance."
   ]
  }
 ],
 "metadata": {
  "language_info": {
   "name": "python"
  }
 },
 "nbformat": 4,
 "nbformat_minor": 5
}
