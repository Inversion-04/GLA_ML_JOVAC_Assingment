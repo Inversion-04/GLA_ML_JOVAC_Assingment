{
 "cells": [
  {
   "cell_type": "markdown",
   "id": "34fc31d6",
   "metadata": {},
   "source": [
    "\n",
    "**Task 3: Feature Scaling and Normalization**\n",
    "\n",
    "Demonstrate the effect of standardizing features using StandardScaler.\n",
    "\n",
    "Compare model performance before and after scaling."
   ]
  },
  {
   "cell_type": "code",
   "execution_count": 1,
   "id": "f3b8b9ae",
   "metadata": {},
   "outputs": [],
   "source": [
    "import numpy as np\n",
    "import matplotlib.pyplot as plt\n",
    "from sklearn.datasets import fetch_california_housing\n",
    "from sklearn.linear_model import LinearRegression\n",
    "from sklearn.model_selection import train_test_split\n",
    "from sklearn.metrics import mean_squared_error, r2_score\n",
    "import pandas as pd\n",
    "\n",
    "from sklearn.preprocessing import StandardScaler\n",
    "\n",
    "\n",
    "data = fetch_california_housing()\n",
    "df = pd.DataFrame(data.data, columns=data.feature_names)\n",
    "df['MedHouseVal'] = data.target\n",
    "\n",
    "\n"
   ]
  },
  {
   "cell_type": "code",
   "execution_count": 2,
   "id": "d66dfa43",
   "metadata": {},
   "outputs": [],
   "source": [
    "\n",
    "input_colms=data.feature_names\n",
    "output_colms=data.target_names"
   ]
  },
  {
   "cell_type": "code",
   "execution_count": 3,
   "id": "2b276ce5",
   "metadata": {},
   "outputs": [],
   "source": [
    "\n",
    "X_data = df[input_colms]\n",
    "Y_data = df[output_colms]\n",
    "\n",
    "X_data = X_data.values\n",
    "Y_data = Y_data.values.reshape(-1)"
   ]
  },
  {
   "cell_type": "code",
   "execution_count": 4,
   "id": "05563a57",
   "metadata": {},
   "outputs": [],
   "source": [
    "X_train, X_test, y_train, y_test = train_test_split(X_data,Y_data,train_size = 0.2,random_state=42)"
   ]
  },
  {
   "cell_type": "code",
   "execution_count": 5,
   "id": "39d57cf1",
   "metadata": {},
   "outputs": [
    {
     "name": "stdout",
     "output_type": "stream",
     "text": [
      "WITHOUT SCALING:\n",
      "R2 Score: 0.6070\n",
      "MSE: 0.5218\n",
      "RMSE: 0.7224\n"
     ]
    }
   ],
   "source": [
    "\n",
    "# Train model without scaling\n",
    "model_raw = LinearRegression()\n",
    "model_raw.fit(X_train, y_train)\n",
    "\n",
    "y_pred_raw = model_raw.predict(X_test)\n",
    "\n",
    "mse_raw = mean_squared_error(y_test, y_pred_raw)\n",
    "rmse_raw = np.sqrt(mse_raw)\n",
    "r2_raw = r2_score(y_test, y_pred_raw)\n",
    "\n",
    "print(\"WITHOUT SCALING:\")\n",
    "print(f\"R2 Score: {r2_raw:.4f}\")\n",
    "print(f\"MSE: {mse_raw:.4f}\")\n",
    "print(f\"RMSE: {rmse_raw:.4f}\")"
   ]
  },
  {
   "cell_type": "code",
   "execution_count": 6,
   "id": "7b3ddb5c",
   "metadata": {},
   "outputs": [
    {
     "name": "stdout",
     "output_type": "stream",
     "text": [
      "\n",
      "WITH STANDARD SCALING:\n",
      "R2 Score: 0.6070\n",
      "MSE: 0.5218\n",
      "RMSE: 0.7224\n"
     ]
    }
   ],
   "source": [
    "\n",
    "# Scale the features\n",
    "scaler = StandardScaler()\n",
    "X_train_scaled = scaler.fit_transform(X_train)\n",
    "X_test_scaled = scaler.transform(X_test)\n",
    "\n",
    "model_scaled = LinearRegression()\n",
    "model_scaled.fit(X_train_scaled, y_train)\n",
    "\n",
    "y_pred_scaled = model_scaled.predict(X_test_scaled)\n",
    "\n",
    "mse_scaled = mean_squared_error(y_test, y_pred_scaled)\n",
    "rmse_scaled = np.sqrt(mse_scaled)\n",
    "r2_scaled = r2_score(y_test, y_pred_scaled)\n",
    "\n",
    "print(\"\\nWITH STANDARD SCALING:\")\n",
    "print(f\"R2 Score: {r2_scaled:.4f}\")\n",
    "print(f\"MSE: {mse_scaled:.4f}\")\n",
    "print(f\"RMSE: {rmse_scaled:.4f}\")"
   ]
  },
  {
   "cell_type": "code",
   "execution_count": 7,
   "id": "3427a768",
   "metadata": {},
   "outputs": [
    {
     "name": "stdout",
     "output_type": "stream",
     "text": [
      "\n",
      "COMPARISON:\n",
      "Metric | Without Scaling | With Scaling\n",
      "---------------------------------------------\n",
      "R²         | 0.6070          | 0.6070         \n",
      "MSE        | 0.5218          | 0.5218         \n",
      "RMSE       | 0.7224          | 0.7224         \n"
     ]
    }
   ],
   "source": [
    "\n",
    "print(\"\\nCOMPARISON:\")\n",
    "print(f\"{'Metric'} | {'Without Scaling'} | {'With Scaling'}\")\n",
    "print(\"-\" * 45)\n",
    "print(f\"{'R²':<10} | {r2_raw:<15.4f} | {r2_scaled:<15.4f}\")\n",
    "print(f\"{'MSE':<10} | {mse_raw:<15.4f} | {mse_scaled:<15.4f}\")\n",
    "print(f\"{'RMSE':<10} | {rmse_raw:<15.4f} | {rmse_scaled:<15.4f}\")"
   ]
  }
 ],
 "metadata": {
  "kernelspec": {
   "display_name": "Python 3",
   "language": "python",
   "name": "python3"
  },
  "language_info": {
   "codemirror_mode": {
    "name": "ipython",
    "version": 3
   },
   "file_extension": ".py",
   "mimetype": "text/x-python",
   "name": "python",
   "nbconvert_exporter": "python",
   "pygments_lexer": "ipython3",
   "version": "3.13.4"
  }
 },
 "nbformat": 4,
 "nbformat_minor": 5
}
