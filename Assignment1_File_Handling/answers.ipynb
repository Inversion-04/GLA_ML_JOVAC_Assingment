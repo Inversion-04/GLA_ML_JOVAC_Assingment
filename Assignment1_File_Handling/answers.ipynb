{
 "cells": [
  {
   "cell_type": "code",
   "execution_count": 18,
   "id": "ea52ed4c",
   "metadata": {},
   "outputs": [
    {
     "name": "stdout",
     "output_type": "stream",
     "text": [
      "The file Content:\n",
      "\n",
      "a,b,c,\n",
      "1,2,3,\n",
      "4,5,6,\n",
      "7,8,9,\n",
      "\n",
      "Resultant Matrix: [['a', 'b', 'c'], [1, 2, 3], [4, 5, 6], [7, 8, 9]]\n"
     ]
    }
   ],
   "source": [
    "# Task 1 Convert a matrix to a CSV-like text file\n",
    "\n",
    "\n",
    "matrix = [['a','b','c'], [1,2,3], [4,5,6], [7,8,9]]\n",
    "\n",
    "# Write the matrix to a text file in CSV format\n",
    "\n",
    "with open(\"homework.txt\", 'w') as file:\n",
    "    for line in matrix:\n",
    "        for element in line:\n",
    "            file.write(str(element) + \",\")\n",
    "        file.write(\"\\n\") \n",
    "\n",
    "# Read the contents of the file \n",
    "\n",
    "print(\"The file Content:\\n\")\n",
    "\n",
    "with open(\"homework.txt\", 'r') as file:\n",
    "    content = file.read()\n",
    "    print(content)\n",
    "\n",
    "# Read the file and reconstruct the matrix\n",
    "\n",
    "new_mat = []\n",
    "with open(\"homework.txt\", 'r') as file:\n",
    "    for line in file:\n",
    "        row = []\n",
    "        for item in line.strip().split(\",\"):\n",
    "            if item == '':\n",
    "                continue \n",
    "            row.append(int(item) if item.isdigit() else item)\n",
    "        new_mat.append(row)\n",
    "\n",
    "print(\"Resultant Matrix:\", new_mat)\n",
    "\n",
    "\n"
   ]
  },
  {
   "cell_type": "code",
   "execution_count": 19,
   "id": "1dd66402",
   "metadata": {},
   "outputs": [
    {
     "name": "stdout",
     "output_type": "stream",
     "text": [
      "All good, value is: 10\n",
      "Custom Exception Caught: Negative value is not allowed!\n"
     ]
    }
   ],
   "source": [
    "# Task 2 Define a custom exception\n",
    "\n",
    "\n",
    "class NegativeValueError(Exception):\n",
    "    pass\n",
    "\n",
    "def test_function(x):\n",
    "    if x < 0:\n",
    "        raise NegativeValueError(\"Negative value is not allowed!\")\n",
    "    else:\n",
    "        print(\"All good, value is:\", x)\n",
    "\n",
    "\n",
    "try:\n",
    "    test_function(10)\n",
    "    test_function(-5)\n",
    "except NegativeValueError as e:\n",
    "    print(\"Custom Exception Caught:\", e)\n"
   ]
  }
 ],
 "metadata": {
  "kernelspec": {
   "display_name": "Python 3",
   "language": "python",
   "name": "python3"
  },
  "language_info": {
   "codemirror_mode": {
    "name": "ipython",
    "version": 3
   },
   "file_extension": ".py",
   "mimetype": "text/x-python",
   "name": "python",
   "nbconvert_exporter": "python",
   "pygments_lexer": "ipython3",
   "version": "3.13.4"
  }
 },
 "nbformat": 4,
 "nbformat_minor": 5
}
